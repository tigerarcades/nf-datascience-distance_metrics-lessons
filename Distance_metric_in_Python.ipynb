{
 "cells": [
  {
   "cell_type": "code",
   "execution_count": 3,
   "metadata": {
    "collapsed": true
   },
   "outputs": [],
   "source": [
    "import numpy as np"
   ]
  },
  {
   "cell_type": "code",
   "execution_count": 4,
   "metadata": {},
   "outputs": [],
   "source": [
    "point_1 = (2, 3, 5)\n",
    "point_2 = (1, -1, 3)\n",
    "\n",
    "manhattan_distance = 0\n",
    "for i in range(3):\n",
    "    manhattan_distance += np.abs(point_1[i] - point_2[i]) "
   ]
  },
  {
   "cell_type": "code",
   "execution_count": 5,
   "metadata": {},
   "outputs": [
    {
     "data": {
      "text/plain": [
       "7"
      ]
     },
     "execution_count": 5,
     "metadata": {},
     "output_type": "execute_result"
    }
   ],
   "source": [
    "manhattan_distance"
   ]
  },
  {
   "cell_type": "code",
   "execution_count": 7,
   "metadata": {},
   "outputs": [
    {
     "data": {
      "text/plain": [
       "4.58257569495584"
      ]
     },
     "execution_count": 7,
     "metadata": {},
     "output_type": "execute_result"
    }
   ],
   "source": [
    "point_1 = (2, 3, 5)\n",
    "point_2 = (1, -1, 3)\n",
    "\n",
    "euclidean_distance = 0\n",
    "for i in range(3):\n",
    "    euclidean_distance += (point_1[i] - point_2[i])**2\n",
    "\n",
    "euclidean_distance = np.sqrt(euclidean_distance)\n",
    "\n",
    "euclidean_distance "
   ]
  },
  {
   "cell_type": "markdown",
   "metadata": {},
   "source": [
    "Manhattan Distance is the sum of all side lengths to the first power\n",
    "manhattan_distance = (length_side_1 + length_side2 + ... length_side_n)**1  \n",
    "\n",
    "# Euclidean Distance is the square root of the sum of all side lengths to the second power\n",
    "euclidean_distance = np.sqrt((length_side_1 + length_side2 + ... length_side_n)*2)\n",
    "\n",
    "# Minkowski Distance with a value of 3 would be the cube root of the sum of all side lengths to the third power\n",
    "minkowski_distance_3 = np.cbrt((length_side_1 + length_side2 + ... length_side_n)**3)\n",
    "\n",
    "# Minkowski Distance with a value of 5\n",
    "mink_distance_5 = np.power((length_side_1 + length_side2 + ... length_side_n)**5, 1./5)"
   ]
  },
  {
   "cell_type": "code",
   "execution_count": null,
   "metadata": {
    "collapsed": true
   },
   "outputs": [],
   "source": []
  }
 ],
 "metadata": {
  "kernelspec": {
   "display_name": "Python 3",
   "language": "python",
   "name": "python3"
  },
  "language_info": {
   "codemirror_mode": {
    "name": "ipython",
    "version": 3
   },
   "file_extension": ".py",
   "mimetype": "text/x-python",
   "name": "python",
   "nbconvert_exporter": "python",
   "pygments_lexer": "ipython3",
   "version": "3.6.9"
  }
 },
 "nbformat": 4,
 "nbformat_minor": 2
}
